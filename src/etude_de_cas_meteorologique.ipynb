{
 "cells": [
  {
   "cell_type": "markdown",
   "source": [
    "Etude de cas météorologique"
   ],
   "metadata": {
    "collapsed": false
   },
   "id": "f05c1934191ef544"
  },
  {
   "cell_type": "code",
   "outputs": [],
   "source": [
    "import pandas as pd\n",
    "import numpy as np\n",
    "import os\n",
    "import matplotlib"
   ],
   "metadata": {
    "collapsed": true,
    "ExecuteTime": {
     "end_time": "2024-03-18T10:12:10.484631Z",
     "start_time": "2024-03-18T10:12:10.193419Z"
    }
   },
   "id": "initial_id",
   "execution_count": 1
  },
  {
   "cell_type": "code",
   "outputs": [
    {
     "name": "stdout",
     "output_type": "stream",
     "text": [
      "        numer_sta          date      pmer  tend  cod_tend     dd    ff  \\\n",
      "0          7005.0  2.023060e+13  102240.0  40.0       1.0   30.0   3.8   \n",
      "1          7015.0  2.023060e+13  102260.0  70.0       1.0  360.0   4.7   \n",
      "2          7020.0  2.023060e+13  102320.0  70.0       1.0   70.0  11.4   \n",
      "3          7027.0  2.023060e+13  102190.0  50.0       1.0   20.0   3.1   \n",
      "4          7037.0  2.023060e+13  102080.0   0.0       0.0   30.0   6.2   \n",
      "...           ...           ...       ...   ...       ...    ...   ...   \n",
      "381123    81401.0  2.023033e+13  101150.0  90.0       5.0   50.0   3.3   \n",
      "381124    81405.0  2.023033e+13  101210.0 -60.0       5.0   50.0   3.8   \n",
      "381125    81408.0  2.023033e+13  101120.0  60.0       5.0   60.0   2.9   \n",
      "381126    81415.0  2.023033e+13       NaN   NaN       NaN   30.0   0.5   \n",
      "381127    89642.0  2.023033e+13   99920.0  70.0       3.0  110.0   9.3   \n",
      "\n",
      "             t      td      u  ...  ctype2  hnuage2  nnuage3  ctype3  hnuage3  \\\n",
      "0       285.95  284.55   91.0  ...     NaN      NaN      NaN     NaN      NaN   \n",
      "1       286.25  284.65   90.0  ...     NaN      NaN      NaN     NaN      NaN   \n",
      "2       285.85  283.95   88.0  ...     NaN      NaN      NaN     NaN      NaN   \n",
      "3       286.25  284.95   92.0  ...     NaN      NaN      NaN     NaN      NaN   \n",
      "4       286.25  284.35   88.0  ...     NaN      NaN      NaN     NaN      NaN   \n",
      "...        ...     ...    ...  ...     ...      ...      ...     ...      ...   \n",
      "381123  301.75  295.75   70.0  ...     NaN      NaN      NaN     NaN      NaN   \n",
      "381124  300.45  296.25   78.0  ...     NaN    960.0      NaN     NaN      NaN   \n",
      "381125  302.35  294.55   63.0  ...     NaN      NaN      NaN     NaN      NaN   \n",
      "381126  298.95  296.85   88.0  ...     NaN      NaN      NaN     NaN      NaN   \n",
      "381127  271.45  271.45  100.0  ...     NaN      NaN      NaN     NaN      NaN   \n",
      "\n",
      "        nnuage4  ctype4  hnuage4  Unnamed: 59  \\\n",
      "0           NaN     NaN      NaN          NaN   \n",
      "1           NaN     NaN      NaN          NaN   \n",
      "2           NaN     NaN      NaN          NaN   \n",
      "3           NaN     NaN      NaN          NaN   \n",
      "4           NaN     NaN      NaN          NaN   \n",
      "...         ...     ...      ...          ...   \n",
      "381123      NaN     NaN      NaN          NaN   \n",
      "381124      NaN     NaN      NaN          NaN   \n",
      "381125      NaN     NaN      NaN          NaN   \n",
      "381126      NaN     NaN      NaN          NaN   \n",
      "381127      NaN     NaN      NaN          NaN   \n",
      "\n",
      "        numer_sta,date,pmer,tend,cod_tend,dd,ff,t,td,u,vv,ww,w1,w2,n,nbas,hbas,cl,cm,ch,pres,niv_bar,geop,tend24,tn12,tn24,tx12,tx24,tminsol,sw,tw,raf10,rafper,per,etat_sol,ht_neige,ssfrai,perssfrai,rr1,rr3,rr6,rr12,rr24,phenspe1,phenspe2,phenspe3,phenspe4,nnuage1,ctype1,hnuage1,nnuage2,ctype2,hnuage2,nnuage3,ctype3,hnuage3,nnuage4,ctype4,hnuage4,Unnamed: 59  \n",
      "0                                                     NaN                                                                                                                                                                                                                                                                                                                 \n",
      "1                                                     NaN                                                                                                                                                                                                                                                                                                                 \n",
      "2                                                     NaN                                                                                                                                                                                                                                                                                                                 \n",
      "3                                                     NaN                                                                                                                                                                                                                                                                                                                 \n",
      "4                                                     NaN                                                                                                                                                                                                                                                                                                                 \n",
      "...                                                   ...                                                                                                                                                                                                                                                                                                                 \n",
      "381123                                                NaN                                                                                                                                                                                                                                                                                                                 \n",
      "381124                                                NaN                                                                                                                                                                                                                                                                                                                 \n",
      "381125                                                NaN                                                                                                                                                                                                                                                                                                                 \n",
      "381126                                                NaN                                                                                                                                                                                                                                                                                                                 \n",
      "381127                                                NaN                                                                                                                                                                                                                                                                                                                 \n",
      "\n",
      "[381128 rows x 61 columns]\n",
      "0          True\n",
      "1         False\n",
      "2         False\n",
      "3         False\n",
      "4         False\n",
      "          ...  \n",
      "381123    False\n",
      "381124    False\n",
      "381125    False\n",
      "381126    False\n",
      "381127    False\n",
      "Name: numer_sta, Length: 381128, dtype: bool\n"
     ]
    },
    {
     "name": "stderr",
     "output_type": "stream",
     "text": [
      "/tmp/ipykernel_22587/2112257357.py:1: DtypeWarning: Columns (60) have mixed types. Specify dtype option on import or set low_memory=False.\n",
      "  df = pd.read_csv(\"../Data/synop.csv\")\n"
     ]
    }
   ],
   "source": [
    "df = pd.read_csv(\"../Data/synop.csv\")\n",
    "print(df)\n",
    "print(df['numer_sta'] == 7005)"
   ],
   "metadata": {
    "collapsed": false,
    "ExecuteTime": {
     "end_time": "2024-03-18T10:12:11.395405Z",
     "start_time": "2024-03-18T10:12:10.485770Z"
    }
   },
   "id": "5aea6cad20f91e0e",
   "execution_count": 2
  },
  {
   "cell_type": "markdown",
   "source": [
    "Q1 : Quels sont les stations dont les températures sont les plus élevées et celles dont les températures sont les plus basses durant 2023 ? Appartiennent-elles à la même région ?"
   ],
   "metadata": {
    "collapsed": false
   },
   "id": "ffc64ac071a769e5"
  },
  {
   "cell_type": "code",
   "outputs": [
    {
     "name": "stdout",
     "output_type": "stream",
     "text": [
      "0     7005\n",
      "1     7015\n",
      "2     7020\n",
      "3     7027\n",
      "4     7037\n",
      "5     7072\n",
      "6     7110\n",
      "7     7117\n",
      "8     7130\n",
      "9     7139\n",
      "10    7149\n",
      "11    7168\n",
      "12    7181\n",
      "13    7190\n",
      "14    7207\n",
      "15    7222\n",
      "16    7240\n",
      "17    7255\n",
      "18    7280\n",
      "19    7299\n",
      "20    7314\n",
      "21    7335\n",
      "22    7434\n",
      "23    7460\n",
      "24    7471\n",
      "25    7481\n",
      "26    7510\n",
      "27    7535\n",
      "28    7558\n",
      "29    7577\n",
      "30    7591\n",
      "31    7607\n",
      "32    7621\n",
      "33    7627\n",
      "34    7630\n",
      "35    7643\n",
      "36    7650\n",
      "37    7661\n",
      "38    7690\n",
      "39    7747\n",
      "40    7761\n",
      "41    7790\n",
      "Name: ID, dtype: int64\n",
      "42\n"
     ]
    }
   ],
   "source": [
    "stations = pd.read_csv(\"../postesSynop.csv\", sep=\";\")\n",
    "list_num_sta = stations.loc[stations['ID'] < 10000, 'ID']\n",
    "print(list_num_sta)\n",
    "print(len(list_num_sta))"
   ],
   "metadata": {
    "collapsed": false,
    "ExecuteTime": {
     "end_time": "2024-03-18T10:12:11.401965Z",
     "start_time": "2024-03-18T10:12:11.396330Z"
    }
   },
   "id": "89ab4ff83bd839b2",
   "execution_count": 3
  },
  {
   "cell_type": "code",
   "outputs": [
    {
     "name": "stdout",
     "output_type": "stream",
     "text": [
      "[284.05817887614006, 284.3042857142857, 285.40861244019135, 284.5307556080283, 283.8926051161423, 284.09573780129335, 284.8479615952733, 285.4065617577197, 285.37480757844884, 284.2995366218236, 285.3285714285714, 284.6418283362728, 283.8428193054738, 284.690288829944, 286.7002312673451, 286.0073611519247, 285.3742185128983, 285.5711284161035, 284.7134010002942, 284.38743016759776, 287.0475007527853, 285.6002651738362, 284.8738319130179, 285.6323875330785, 282.5162842012357, 286.21171714201705, 287.1913529411765, 286.00634592680046, 284.12118393858873, 287.0031839622642, 283.56333135391924, 286.7761624484991, 285.83259847148736, 285.4793683589138, 287.39376681614345, 288.4916027018729, 288.5155598001763, nan, 289.4648911124191, 289.24826266195527, 289.14711679905855, 289.37953536549276]\n",
      "42\n"
     ]
    }
   ],
   "source": [
    "list_mean_temp = []\n",
    "for i in list_num_sta:\n",
    "    list_temp = df.loc[df['numer_sta'] == i, 't']\n",
    "    list_mean_temp.append(np.mean(list_temp))\n",
    "print(list_mean_temp)\n",
    "print(len(list_mean_temp))"
   ],
   "metadata": {
    "collapsed": false,
    "ExecuteTime": {
     "end_time": "2024-03-18T10:12:11.431226Z",
     "start_time": "2024-03-18T10:12:11.403585Z"
    }
   },
   "id": "733b9a9553ae6f87",
   "execution_count": 4
  },
  {
   "cell_type": "code",
   "outputs": [
    {
     "name": "stdout",
     "output_type": "stream",
     "text": [
      "La station la plus froide est : \n",
      "       ID            Nom\n",
      "24  7471  LE PUY-LOUDES\n",
      "La station la plus chaude est : \n",
      "       ID   Nom\n",
      "38  7690  NICE\n"
     ]
    }
   ],
   "source": [
    "coldest_sta = list_num_sta[pd.Series(list_mean_temp).idxmin()]\n",
    "hottest_sta = list_num_sta[pd.Series(list_mean_temp).idxmax()]\n",
    "print(\"La station la plus froide est : \\n\", stations.loc[stations['ID'] == coldest_sta, ['ID', 'Nom']])\n",
    "print(\"La station la plus chaude est : \\n\", stations.loc[stations['ID'] == hottest_sta, ['ID', 'Nom']])"
   ],
   "metadata": {
    "collapsed": false,
    "ExecuteTime": {
     "end_time": "2024-03-18T10:12:11.439165Z",
     "start_time": "2024-03-18T10:12:11.432273Z"
    }
   },
   "id": "3084a7d4ebcacf34",
   "execution_count": 5
  },
  {
   "cell_type": "markdown",
   "source": [
    "Q2 : Quels sont les stations les plus humides, cela a-t-il une relation avec la température ?"
   ],
   "metadata": {
    "collapsed": false
   },
   "id": "47eef3f576bec1e4"
  },
  {
   "cell_type": "code",
   "outputs": [
    {
     "name": "stdout",
     "output_type": "stream",
     "text": [
      "[81.81906443071492, 79.24970238095239, 82.60466507177034, 81.8913813459268, 81.35313143193179, 80.01528512639624, 85.093353028065, 81.00593824228028, 79.77827116637063, 80.62810164424515, 74.17430922986479, 78.02087007642564, 75.48999411418481, 74.64190981432361, 79.59789204726924, 78.94563620334999, 78.01638846737481, 75.23332353805466, 75.95910561929979, 76.53249044398706, 79.70520927431497, 78.50471420153211, 78.0317367029092, 69.47721258453396, 74.20888496616652, 70.47691855336666, 76.9514705882353, 76.85891381345927, 74.81517567168586, 69.49852594339623, 62.71080760095012, 80.59240729841083, 77.77601410934744, 77.79191263282172, 73.84962630792228, 66.48111759287688, 67.99324125771378, nan, 65.85726898175398, 62.56654888103651, 74.0882612533098, 69.52455621301775]\n",
      "42\n"
     ]
    }
   ],
   "source": [
    "list_mean_hum = []\n",
    "for i in list_num_sta:\n",
    "    list_hum = df.loc[df['numer_sta'] == i, 'u']\n",
    "    list_mean_hum.append(np.mean(list_hum))\n",
    "print(list_mean_hum)\n",
    "print(len(list_mean_hum))"
   ],
   "metadata": {
    "collapsed": false,
    "ExecuteTime": {
     "end_time": "2024-03-18T10:12:11.467928Z",
     "start_time": "2024-03-18T10:12:11.440267Z"
    }
   },
   "id": "39e140c41f9ab896",
   "execution_count": 6
  },
  {
   "cell_type": "code",
   "outputs": [
    {
     "name": "stdout",
     "output_type": "stream",
     "text": [
      "La station la plus humide est : \n",
      "      ID             Nom\n",
      "6  7110  BREST-GUIPAVAS\n"
     ]
    }
   ],
   "source": [
    "most_hum_sta = list_num_sta[pd.Series(list_mean_hum).idxmax()]\n",
    "print(\"La station la plus humide est : \\n\", stations.loc[stations['ID'] == most_hum_sta, ['ID', 'Nom']])"
   ],
   "metadata": {
    "collapsed": false,
    "ExecuteTime": {
     "end_time": "2024-03-18T10:12:11.473700Z",
     "start_time": "2024-03-18T10:12:11.468818Z"
    }
   },
   "id": "e02da67b48e503ef",
   "execution_count": 7
  },
  {
   "cell_type": "code",
   "outputs": [],
   "source": [],
   "metadata": {
    "collapsed": false,
    "ExecuteTime": {
     "end_time": "2024-03-18T10:12:11.476063Z",
     "start_time": "2024-03-18T10:12:11.474599Z"
    }
   },
   "id": "bd81a656939edc0c",
   "execution_count": 7
  }
 ],
 "metadata": {
  "kernelspec": {
   "display_name": "Python 3",
   "language": "python",
   "name": "python3"
  },
  "language_info": {
   "codemirror_mode": {
    "name": "ipython",
    "version": 2
   },
   "file_extension": ".py",
   "mimetype": "text/x-python",
   "name": "python",
   "nbconvert_exporter": "python",
   "pygments_lexer": "ipython2",
   "version": "2.7.6"
  }
 },
 "nbformat": 4,
 "nbformat_minor": 5
}
