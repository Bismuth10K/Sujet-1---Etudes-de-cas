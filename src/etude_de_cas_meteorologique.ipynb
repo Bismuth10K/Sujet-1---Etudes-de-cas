{
 "cells": [
  {
   "cell_type": "markdown",
   "id": "f05c1934191ef544",
   "metadata": {
    "collapsed": false
   },
   "source": [
    "Etude de cas météorologique"
   ]
  },
  {
   "cell_type": "code",
   "execution_count": 2,
   "id": "initial_id",
   "metadata": {
    "ExecuteTime": {
     "end_time": "2024-03-25T10:05:25.712822Z",
     "start_time": "2024-03-25T10:05:25.248601Z"
    }
   },
   "outputs": [],
   "source": [
    "import pandas as pd\n",
    "import numpy as np\n",
    "import os\n",
    "import matplotlib"
   ]
  },
  {
   "cell_type": "code",
   "execution_count": 3,
   "id": "5aea6cad20f91e0e",
   "metadata": {
    "collapsed": false,
    "ExecuteTime": {
     "end_time": "2024-03-25T10:05:26.846218Z",
     "start_time": "2024-03-25T10:05:25.803191Z"
    }
   },
   "outputs": [
    {
     "name": "stdout",
     "output_type": "stream",
     "text": [
      "        numer_sta          date      pmer  tend  cod_tend     dd    ff  \\\n",
      "0          7005.0  2.023060e+13  102240.0  40.0       1.0   30.0   3.8   \n",
      "1          7015.0  2.023060e+13  102260.0  70.0       1.0  360.0   4.7   \n",
      "2          7020.0  2.023060e+13  102320.0  70.0       1.0   70.0  11.4   \n",
      "3          7027.0  2.023060e+13  102190.0  50.0       1.0   20.0   3.1   \n",
      "4          7037.0  2.023060e+13  102080.0   0.0       0.0   30.0   6.2   \n",
      "...           ...           ...       ...   ...       ...    ...   ...   \n",
      "381123    81401.0  2.023033e+13  101150.0  90.0       5.0   50.0   3.3   \n",
      "381124    81405.0  2.023033e+13  101210.0 -60.0       5.0   50.0   3.8   \n",
      "381125    81408.0  2.023033e+13  101120.0  60.0       5.0   60.0   2.9   \n",
      "381126    81415.0  2.023033e+13       NaN   NaN       NaN   30.0   0.5   \n",
      "381127    89642.0  2.023033e+13   99920.0  70.0       3.0  110.0   9.3   \n",
      "\n",
      "             t      td      u  ...  ctype2  hnuage2  nnuage3  ctype3  hnuage3  \\\n",
      "0       285.95  284.55   91.0  ...     NaN      NaN      NaN     NaN      NaN   \n",
      "1       286.25  284.65   90.0  ...     NaN      NaN      NaN     NaN      NaN   \n",
      "2       285.85  283.95   88.0  ...     NaN      NaN      NaN     NaN      NaN   \n",
      "3       286.25  284.95   92.0  ...     NaN      NaN      NaN     NaN      NaN   \n",
      "4       286.25  284.35   88.0  ...     NaN      NaN      NaN     NaN      NaN   \n",
      "...        ...     ...    ...  ...     ...      ...      ...     ...      ...   \n",
      "381123  301.75  295.75   70.0  ...     NaN      NaN      NaN     NaN      NaN   \n",
      "381124  300.45  296.25   78.0  ...     NaN    960.0      NaN     NaN      NaN   \n",
      "381125  302.35  294.55   63.0  ...     NaN      NaN      NaN     NaN      NaN   \n",
      "381126  298.95  296.85   88.0  ...     NaN      NaN      NaN     NaN      NaN   \n",
      "381127  271.45  271.45  100.0  ...     NaN      NaN      NaN     NaN      NaN   \n",
      "\n",
      "        nnuage4  ctype4  hnuage4  Unnamed: 59  \\\n",
      "0           NaN     NaN      NaN          NaN   \n",
      "1           NaN     NaN      NaN          NaN   \n",
      "2           NaN     NaN      NaN          NaN   \n",
      "3           NaN     NaN      NaN          NaN   \n",
      "4           NaN     NaN      NaN          NaN   \n",
      "...         ...     ...      ...          ...   \n",
      "381123      NaN     NaN      NaN          NaN   \n",
      "381124      NaN     NaN      NaN          NaN   \n",
      "381125      NaN     NaN      NaN          NaN   \n",
      "381126      NaN     NaN      NaN          NaN   \n",
      "381127      NaN     NaN      NaN          NaN   \n",
      "\n",
      "        numer_sta,date,pmer,tend,cod_tend,dd,ff,t,td,u,vv,ww,w1,w2,n,nbas,hbas,cl,cm,ch,pres,niv_bar,geop,tend24,tn12,tn24,tx12,tx24,tminsol,sw,tw,raf10,rafper,per,etat_sol,ht_neige,ssfrai,perssfrai,rr1,rr3,rr6,rr12,rr24,phenspe1,phenspe2,phenspe3,phenspe4,nnuage1,ctype1,hnuage1,nnuage2,ctype2,hnuage2,nnuage3,ctype3,hnuage3,nnuage4,ctype4,hnuage4,Unnamed: 59  \n",
      "0                                                     NaN                                                                                                                                                                                                                                                                                                                 \n",
      "1                                                     NaN                                                                                                                                                                                                                                                                                                                 \n",
      "2                                                     NaN                                                                                                                                                                                                                                                                                                                 \n",
      "3                                                     NaN                                                                                                                                                                                                                                                                                                                 \n",
      "4                                                     NaN                                                                                                                                                                                                                                                                                                                 \n",
      "...                                                   ...                                                                                                                                                                                                                                                                                                                 \n",
      "381123                                                NaN                                                                                                                                                                                                                                                                                                                 \n",
      "381124                                                NaN                                                                                                                                                                                                                                                                                                                 \n",
      "381125                                                NaN                                                                                                                                                                                                                                                                                                                 \n",
      "381126                                                NaN                                                                                                                                                                                                                                                                                                                 \n",
      "381127                                                NaN                                                                                                                                                                                                                                                                                                                 \n",
      "\n",
      "[381128 rows x 61 columns]\n"
     ]
    },
    {
     "name": "stderr",
     "output_type": "stream",
     "text": [
      "/tmp/ipykernel_7135/911539712.py:1: DtypeWarning: Columns (60) have mixed types. Specify dtype option on import or set low_memory=False.\n",
      "  df = pd.read_csv(\"../Data/synop.csv\")\n"
     ]
    }
   ],
   "source": [
    "df = pd.read_csv(\"../Data/synop.csv\")\n",
    "print(df)"
   ]
  },
  {
   "cell_type": "markdown",
   "id": "ffc64ac071a769e5",
   "metadata": {
    "collapsed": false
   },
   "source": [
    "Q1 : Quels sont les stations dont les températures sont les plus élevées et celles dont les températures sont les plus basses durant 2023 ? Appartiennent-elles à la même région ?"
   ]
  },
  {
   "cell_type": "code",
   "execution_count": 4,
   "id": "89ab4ff83bd839b2",
   "metadata": {
    "collapsed": false,
    "ExecuteTime": {
     "end_time": "2024-03-25T10:05:28.501988Z",
     "start_time": "2024-03-25T10:05:28.486548Z"
    }
   },
   "outputs": [
    {
     "name": "stdout",
     "output_type": "stream",
     "text": [
      "0     7005\n",
      "1     7015\n",
      "2     7020\n",
      "3     7027\n",
      "4     7037\n",
      "5     7072\n",
      "6     7110\n",
      "7     7117\n",
      "8     7130\n",
      "9     7139\n",
      "10    7149\n",
      "11    7168\n",
      "12    7181\n",
      "13    7190\n",
      "14    7207\n",
      "15    7222\n",
      "16    7240\n",
      "17    7255\n",
      "18    7280\n",
      "19    7299\n",
      "20    7314\n",
      "21    7335\n",
      "22    7434\n",
      "23    7460\n",
      "24    7471\n",
      "25    7481\n",
      "26    7510\n",
      "27    7535\n",
      "28    7558\n",
      "29    7577\n",
      "30    7591\n",
      "31    7607\n",
      "32    7621\n",
      "33    7627\n",
      "34    7630\n",
      "35    7643\n",
      "36    7650\n",
      "37    7661\n",
      "38    7690\n",
      "39    7747\n",
      "40    7761\n",
      "41    7790\n",
      "Name: ID, dtype: int64\n",
      "42\n"
     ]
    }
   ],
   "source": [
    "stations = pd.read_csv(\"../postesSynop.csv\", sep=\";\")\n",
    "list_num_sta = stations.loc[stations['ID'] < 10000, 'ID']\n",
    "print(list_num_sta)\n",
    "print(len(list_num_sta))"
   ]
  },
  {
   "cell_type": "code",
   "execution_count": 6,
   "id": "733b9a9553ae6f87",
   "metadata": {
    "collapsed": false,
    "ExecuteTime": {
     "end_time": "2024-03-25T10:05:40.019527Z",
     "start_time": "2024-03-25T10:05:40.001197Z"
    }
   },
   "outputs": [
    {
     "name": "stdout",
     "output_type": "stream",
     "text": [
      "numer_sta\n",
      "7690.0    289.464891\n",
      "7790.0    289.379535\n",
      "7747.0    289.248263\n",
      "7761.0    289.147117\n",
      "7650.0    288.515560\n",
      "7643.0    288.491603\n",
      "7630.0    287.393767\n",
      "7510.0    287.191353\n",
      "7314.0    287.047501\n",
      "7577.0    287.003184\n",
      "7607.0    286.776162\n",
      "7207.0    286.700231\n",
      "7481.0    286.211717\n",
      "7222.0    286.007361\n",
      "7535.0    286.006346\n",
      "7621.0    285.832598\n",
      "7460.0    285.632388\n",
      "7335.0    285.600265\n",
      "7255.0    285.571128\n",
      "7627.0    285.479368\n",
      "7020.0    285.408612\n",
      "7117.0    285.406562\n",
      "7130.0    285.374808\n",
      "7240.0    285.374219\n",
      "7149.0    285.328571\n",
      "7434.0    284.873832\n",
      "7110.0    284.847962\n",
      "7280.0    284.713401\n",
      "7190.0    284.690289\n",
      "7168.0    284.641828\n",
      "7027.0    284.530756\n",
      "7299.0    284.387430\n",
      "7015.0    284.304286\n",
      "7139.0    284.299537\n",
      "7558.0    284.121184\n",
      "7072.0    284.095738\n",
      "7005.0    284.058179\n",
      "7037.0    283.892605\n",
      "7181.0    283.842819\n",
      "7591.0    283.563331\n",
      "7471.0    282.516284\n",
      "Name: t, dtype: float64\n",
      "(41,)\n",
      "-0.27403269345831166\n"
     ]
    }
   ],
   "source": [
    "temperature=df.groupby('numer_sta')['t'].agg('mean').sort_values(ascending=False).dropna()\n",
    "temperature = temperature.loc[temperature.index < 10000]\n",
    "print(temperature)\n",
    "print(temperature.shape)\n",
    "correlation=df['u'].corr(df['t'])\n",
    "print(correlation)"
   ]
  },
  {
   "cell_type": "code",
   "outputs": [
    {
     "name": "stdout",
     "output_type": "stream",
     "text": [
      "Les stations les plus humides sont : \n",
      "      ID   Nom\n",
      "38  7690  NICE\n",
      "      ID     Nom\n",
      "41  7790  BASTIA\n",
      "      ID        Nom\n",
      "39  7747  PERPIGNAN\n",
      "\n",
      "Les stations les moins humides sont : \n",
      "      ID            Nom\n",
      "24  7471  LE PUY-LOUDES\n",
      "      ID     Nom\n",
      "30  7591  EMBRUN\n",
      "      ID          Nom\n",
      "12  7181  NANCY-OCHEY\n"
     ]
    }
   ],
   "source": [
    "index = [temperature.index[i] for i in [0, 1, 2, -1, -2, -3]]\n",
    "\n",
    "print(\"Les stations les plus chaudes sont : \")\n",
    "print(stations.loc[stations['ID'] == index[0], ['ID', 'Nom']])\n",
    "print(stations.loc[stations['ID'] == index[1], ['ID', 'Nom']])\n",
    "print(stations.loc[stations['ID'] == index[2], ['ID', 'Nom']])\n",
    "print(\"\\nLes stations les moins froides sont : \")\n",
    "print(stations.loc[stations['ID'] == index[3], ['ID', 'Nom']])\n",
    "print(stations.loc[stations['ID'] == index[4], ['ID', 'Nom']])\n",
    "print(stations.loc[stations['ID'] == index[5], ['ID', 'Nom']])"
   ],
   "metadata": {
    "collapsed": false,
    "ExecuteTime": {
     "end_time": "2024-03-18T15:33:23.966530Z",
     "start_time": "2024-03-18T15:33:23.955742Z"
    }
   },
   "id": "b966c81149d628c7",
   "execution_count": 19
  },
  {
   "cell_type": "markdown",
   "id": "47eef3f576bec1e4",
   "metadata": {
    "collapsed": false
   },
   "source": [
    "Q2 : Quels sont les stations les plus humides, cela a-t-il une relation avec la température ?"
   ]
  },
  {
   "cell_type": "code",
   "execution_count": 14,
   "id": "39e140c41f9ab896",
   "metadata": {
    "collapsed": false,
    "ExecuteTime": {
     "end_time": "2024-03-18T15:19:30.910919Z",
     "start_time": "2024-03-18T15:19:30.886801Z"
    }
   },
   "outputs": [
    {
     "name": "stdout",
     "output_type": "stream",
     "text": [
      "numer_sta\n",
      "7110.0    85.093353\n",
      "7020.0    82.604665\n",
      "7027.0    81.891381\n",
      "7005.0    81.819064\n",
      "7037.0    81.353131\n",
      "7117.0    81.005938\n",
      "7139.0    80.628102\n",
      "7607.0    80.592407\n",
      "7072.0    80.015285\n",
      "7130.0    79.778271\n",
      "7314.0    79.705209\n",
      "7207.0    79.597892\n",
      "7015.0    79.249702\n",
      "7222.0    78.945636\n",
      "7335.0    78.504714\n",
      "7434.0    78.031737\n",
      "7168.0    78.020870\n",
      "7240.0    78.016388\n",
      "7627.0    77.791913\n",
      "7621.0    77.776014\n",
      "7510.0    76.951471\n",
      "7535.0    76.858914\n",
      "7299.0    76.532490\n",
      "7280.0    75.959106\n",
      "7181.0    75.489994\n",
      "7255.0    75.233324\n",
      "7558.0    74.815176\n",
      "7190.0    74.641910\n",
      "7471.0    74.208885\n",
      "7149.0    74.174309\n",
      "7761.0    74.088261\n",
      "7630.0    73.849626\n",
      "7481.0    70.476919\n",
      "7790.0    69.524556\n",
      "7577.0    69.498526\n",
      "7460.0    69.477213\n",
      "7650.0    67.993241\n",
      "7643.0    66.481118\n",
      "7690.0    65.857269\n",
      "7591.0    62.710808\n",
      "7747.0    62.566549\n",
      "Name: u, dtype: float64\n",
      "-0.27403269345831166\n"
     ]
    }
   ],
   "source": [
    "humidity=df.groupby('numer_sta')['u'].agg('mean').sort_values(ascending=False).dropna()\n",
    "humidity = humidity.loc[humidity.index < 10000]\n",
    "print(humidity)\n",
    "correlation=df['u'].corr(df['t'])\n",
    "print(correlation)"
   ]
  },
  {
   "cell_type": "code",
   "execution_count": 17,
   "id": "e02da67b48e503ef",
   "metadata": {
    "collapsed": false,
    "ExecuteTime": {
     "end_time": "2024-03-18T15:22:55.848015Z",
     "start_time": "2024-03-18T15:22:55.835574Z"
    }
   },
   "outputs": [
    {
     "name": "stdout",
     "output_type": "stream",
     "text": [
      "Les stations les plus humides sont : \n",
      "     ID             Nom\n",
      "6  7110  BREST-GUIPAVAS\n",
      "     ID              Nom\n",
      "2  7020  PTE DE LA HAGUE\n",
      "     ID             Nom\n",
      "3  7027  CAEN-CARPIQUET\n",
      "\n",
      "Les stations les moins humides sont : \n",
      "      ID        Nom\n",
      "39  7747  PERPIGNAN\n",
      "      ID     Nom\n",
      "30  7591  EMBRUN\n",
      "      ID   Nom\n",
      "38  7690  NICE\n"
     ]
    }
   ],
   "source": [
    "index = [humidity.index[i] for i in [0, 1, 2, -1, -2, -3]]\n",
    "\n",
    "print(\"Les stations les plus humides sont : \")\n",
    "print(stations.loc[stations['ID'] == index[0], ['ID', 'Nom']])\n",
    "print(stations.loc[stations['ID'] == index[1], ['ID', 'Nom']])\n",
    "print(stations.loc[stations['ID'] == index[2], ['ID', 'Nom']])\n",
    "print(\"\\nLes stations les moins humides sont : \")\n",
    "print(stations.loc[stations['ID'] == index[3], ['ID', 'Nom']])\n",
    "print(stations.loc[stations['ID'] == index[4], ['ID', 'Nom']])\n",
    "print(stations.loc[stations['ID'] == index[5], ['ID', 'Nom']])"
   ]
  },
  {
   "cell_type": "code",
   "execution_count": null,
   "id": "bd81a656939edc0c",
   "metadata": {
    "ExecuteTime": {
     "end_time": "2024-03-18T10:12:11.476063Z",
     "start_time": "2024-03-18T10:12:11.474599Z"
    },
    "collapsed": false
   },
   "outputs": [],
   "source": []
  }
 ],
 "metadata": {
  "kernelspec": {
   "display_name": "Python 3 (ipykernel)",
   "language": "python",
   "name": "python3"
  },
  "language_info": {
   "codemirror_mode": {
    "name": "ipython",
    "version": 3
   },
   "file_extension": ".py",
   "mimetype": "text/x-python",
   "name": "python",
   "nbconvert_exporter": "python",
   "pygments_lexer": "ipython3",
   "version": "3.11.2"
  }
 },
 "nbformat": 4,
 "nbformat_minor": 5
}
