{
 "cells": [
  {
   "cell_type": "markdown",
   "source": [
    "Etude de cas météorologique"
   ],
   "metadata": {
    "collapsed": false
   },
   "id": "f05c1934191ef544"
  },
  {
   "cell_type": "code",
   "outputs": [],
   "source": [
    "import pandas as pd\n",
    "import numpy as np\n",
    "import os\n",
    "import matplotlib"
   ],
   "metadata": {
    "collapsed": true,
    "ExecuteTime": {
     "end_time": "2024-03-11T15:54:11.117400360Z",
     "start_time": "2024-03-11T15:54:10.580604116Z"
    }
   },
   "id": "initial_id",
   "execution_count": 2
  },
  {
   "cell_type": "code",
   "outputs": [
    {
     "name": "stdout",
     "output_type": "stream",
     "text": [
      "        numer_sta          date      pmer   tend  cod_tend     dd    ff  \\\n",
      "0          7005.0  2.023080e+13  100300.0  -50.0       6.0  270.0   5.0   \n",
      "1          7015.0  2.023080e+13  100180.0  -90.0       6.0  250.0   5.2   \n",
      "2          7020.0  2.023080e+13  100540.0    0.0       0.0  270.0   8.3   \n",
      "3          7027.0  2.023080e+13  100600.0  120.0       3.0  280.0   6.2   \n",
      "4          7037.0  2.023080e+13  100440.0  -10.0       5.0  310.0   5.8   \n",
      "...           ...           ...       ...    ...       ...    ...   ...   \n",
      "190559    78925.0  2.023093e+13  100810.0  -30.0       6.0   60.0   2.4   \n",
      "190560    81401.0  2.023093e+13  100780.0   10.0       5.0   60.0   1.8   \n",
      "190561    81405.0  2.023093e+13  100880.0    0.0       5.0  100.0   3.7   \n",
      "190562    81408.0  2.023093e+13  100840.0    0.0       5.0   90.0   3.6   \n",
      "190563    89642.0  2.023093e+13   98690.0  100.0       3.0  140.0  13.9   \n",
      "\n",
      "             t      td     u  ...  hnuage3  nnuage4  ctype4  hnuage4  \\\n",
      "0       288.55  288.05  97.0  ...      NaN      NaN     NaN      NaN   \n",
      "1       288.75  287.95  95.0  ...      NaN      NaN     NaN      NaN   \n",
      "2       289.45  288.15  92.0  ...      NaN      NaN     NaN      NaN   \n",
      "3       289.05  287.95  93.0  ...   6360.0      NaN     NaN      NaN   \n",
      "4       288.75  288.45  98.0  ...      NaN      NaN     NaN      NaN   \n",
      "...        ...     ...   ...  ...      ...      ...     ...      ...   \n",
      "190559  303.45  299.15  78.0  ...   1980.0      NaN     9.0      NaN   \n",
      "190560  304.25  296.85  65.0  ...      NaN      NaN     NaN      NaN   \n",
      "190561  303.25  297.85  73.0  ...      NaN      NaN     NaN      NaN   \n",
      "190562  305.15  295.55  57.0  ...      NaN      NaN     NaN      NaN   \n",
      "190563  251.85  244.75  49.0  ...      NaN      NaN     NaN      NaN   \n",
      "\n",
      "        Unnamed: 59  Unnamed: 0  ewen  ewen-pc-spec  11.03.2024 14:49  \\\n",
      "0               NaN         NaN   NaN           NaN               NaN   \n",
      "1               NaN         NaN   NaN           NaN               NaN   \n",
      "2               NaN         NaN   NaN           NaN               NaN   \n",
      "3               NaN         NaN   NaN           NaN               NaN   \n",
      "4               NaN         NaN   NaN           NaN               NaN   \n",
      "...             ...         ...   ...           ...               ...   \n",
      "190559          NaN         NaN   NaN           NaN               NaN   \n",
      "190560          NaN         NaN   NaN           NaN               NaN   \n",
      "190561          NaN         NaN   NaN           NaN               NaN   \n",
      "190562          NaN         NaN   NaN           NaN               NaN   \n",
      "190563          NaN         NaN   NaN           NaN               NaN   \n",
      "\n",
      "        file:///home/ewen/.config/libreoffice/4;  \n",
      "0                                            NaN  \n",
      "1                                            NaN  \n",
      "2                                            NaN  \n",
      "3                                            NaN  \n",
      "4                                            NaN  \n",
      "...                                          ...  \n",
      "190559                                       NaN  \n",
      "190560                                       NaN  \n",
      "190561                                       NaN  \n",
      "190562                                       NaN  \n",
      "190563                                       NaN  \n",
      "\n",
      "[190564 rows x 65 columns]\n",
      "0          True\n",
      "1         False\n",
      "2         False\n",
      "3         False\n",
      "4         False\n",
      "          ...  \n",
      "190559    False\n",
      "190560    False\n",
      "190561    False\n",
      "190562    False\n",
      "190563    False\n",
      "Name: numer_sta, Length: 190564, dtype: bool\n"
     ]
    }
   ],
   "source": [
    "df = pd.read_csv(\"../Data/synop.csv\")\n",
    "print(df)\n",
    "print(df['numer_sta'] == 7005)"
   ],
   "metadata": {
    "collapsed": false,
    "ExecuteTime": {
     "end_time": "2024-03-11T15:54:12.683768034Z",
     "start_time": "2024-03-11T15:54:12.169048466Z"
    }
   },
   "id": "5aea6cad20f91e0e",
   "execution_count": 3
  },
  {
   "cell_type": "markdown",
   "source": [
    "Q1 : Quels sont les stations dont les températures sont les plus élevées et celles dont les températures sont les plus basses durant 2023 ? Appartiennent-elles à la même région ?"
   ],
   "metadata": {
    "collapsed": false
   },
   "id": "ffc64ac071a769e5"
  },
  {
   "cell_type": "code",
   "outputs": [
    {
     "name": "stdout",
     "output_type": "stream",
     "text": [
      "0     7005\n",
      "1     7015\n",
      "2     7020\n",
      "3     7027\n",
      "4     7037\n",
      "5     7072\n",
      "6     7110\n",
      "7     7117\n",
      "8     7130\n",
      "9     7139\n",
      "10    7149\n",
      "11    7168\n",
      "12    7181\n",
      "13    7190\n",
      "14    7207\n",
      "15    7222\n",
      "16    7240\n",
      "17    7255\n",
      "18    7280\n",
      "19    7299\n",
      "20    7314\n",
      "21    7335\n",
      "22    7434\n",
      "23    7460\n",
      "24    7471\n",
      "25    7481\n",
      "26    7510\n",
      "27    7535\n",
      "28    7558\n",
      "29    7577\n",
      "30    7591\n",
      "31    7607\n",
      "32    7621\n",
      "33    7627\n",
      "34    7630\n",
      "35    7643\n",
      "36    7650\n",
      "37    7661\n",
      "38    7690\n",
      "39    7747\n",
      "40    7761\n",
      "41    7790\n",
      "Name: ID, dtype: int64\n",
      "42\n"
     ]
    }
   ],
   "source": [
    "stations = pd.read_csv(\"../postesSynop.csv\", sep=\";\")\n",
    "list_num_sta = stations.loc[stations['ID'] < 10000, 'ID']\n",
    "print(list_num_sta)\n",
    "print(len(list_num_sta))"
   ],
   "metadata": {
    "collapsed": false,
    "ExecuteTime": {
     "end_time": "2024-03-11T15:54:55.307320916Z",
     "start_time": "2024-03-11T15:54:55.245675688Z"
    }
   },
   "id": "89ab4ff83bd839b2",
   "execution_count": 5
  },
  {
   "cell_type": "code",
   "outputs": [
    {
     "name": "stdout",
     "output_type": "stream",
     "text": [
      "[284.6000158679784, 284.89167737789205, 285.76915374677003, 285.024252068746, 284.4438154138915, 284.68471781864304, 285.2505419190309, 285.76480769230767, 285.8901916932907, 284.8565870196965, 285.9364616360177, 285.2346861128725, 284.47469841269844, 285.3654213036566, 287.1446911519199, 286.51003169572107, 285.9387139107611, 286.15434231378765, 285.3690355329949, 285.03880431335233, 287.51403252032515, 286.1424348378894, 285.37757527733754, 286.2141928322233, 283.04701682005714, 286.82725975261656, 287.7071065989848, 286.510796178344, 284.62901273885353, 287.61300890585244, 284.0978846153846, 287.2817777777778, 286.301902346227, 285.9530891719745, 287.88768860353133, 289.0310185185185, 289.0953565768621, nan, 289.95482386543955, 289.76254764930115, 289.56837511900983, 289.8461673586714]\n",
      "42\n"
     ]
    }
   ],
   "source": [
    "list_mean_temp = []\n",
    "for i in list_num_sta:\n",
    "    list_temp = df.loc[df['numer_sta'] == i, 't']\n",
    "    list_mean_temp.append(np.mean(list_temp))\n",
    "print(list_mean_temp)\n",
    "print(len(list_mean_temp))"
   ],
   "metadata": {
    "collapsed": false,
    "ExecuteTime": {
     "end_time": "2024-03-11T15:55:34.978370499Z",
     "start_time": "2024-03-11T15:55:34.933157816Z"
    }
   },
   "id": "733b9a9553ae6f87",
   "execution_count": 6
  },
  {
   "cell_type": "code",
   "outputs": [
    {
     "name": "stdout",
     "output_type": "stream",
     "text": [
      "La station la plus froide est : \n",
      "       ID            Nom\n",
      "24  7471  LE PUY-LOUDES\n",
      "La station la plus chaude est : \n",
      "       ID   Nom\n",
      "38  7690  NICE\n"
     ]
    }
   ],
   "source": [
    "coldest_sta = list_num_sta[pd.Series(list_mean_temp).idxmin()]\n",
    "hottest_sta = list_num_sta[pd.Series(list_mean_temp).idxmax()]\n",
    "print(\"La station la plus froide est : \\n\", stations.loc[stations['ID'] == coldest_sta, ['ID', 'Nom']])\n",
    "print(\"La station la plus chaude est : \\n\", stations.loc[stations['ID'] == hottest_sta, ['ID', 'Nom']])"
   ],
   "metadata": {
    "collapsed": false,
    "ExecuteTime": {
     "end_time": "2024-03-11T16:14:09.020844443Z",
     "start_time": "2024-03-11T16:14:09.011586007Z"
    }
   },
   "id": "3084a7d4ebcacf34",
   "execution_count": 19
  },
  {
   "cell_type": "markdown",
   "source": [
    "Q2 : Quels sont les stations les plus humides, cela a-t-il une relation avec la température ?"
   ],
   "metadata": {
    "collapsed": false
   },
   "id": "47eef3f576bec1e4"
  },
  {
   "cell_type": "code",
   "outputs": [
    {
     "name": "stdout",
     "output_type": "stream",
     "text": [
      "[81.76864487464297, 78.8422236503856, 82.97157622739019, 81.69414385741565, 81.00444021566761, 79.69847812301839, 84.98437998087344, 81.18557692307692, 79.41309904153354, 80.20116241524056, 73.55263157894737, 77.41851616994293, 74.8711111111111, 73.96025437201908, 79.38293444328824, 78.49128367670365, 77.31430446194226, 74.46814580031696, 75.11960659898477, 75.82366000634316, 79.38276422764227, 77.72727272727273, 77.43740095087163, 68.68728195369489, 73.54807997461124, 69.4871550903901, 76.15513959390863, 76.14044585987261, 74.25414012738854, 68.73886768447836, 62.68653846153846, 79.97396825396825, 77.46639188332277, 77.62802547770701, 73.06420545746388, 66.07572751322752, 67.22757527733756, nan, 65.68708346556649, 61.880241423125796, 73.51158362424627, 69.3588761174968]\n",
      "42\n"
     ]
    }
   ],
   "source": [
    "list_mean_hum = []\n",
    "for i in list_num_sta:\n",
    "    list_hum = df.loc[df['numer_sta'] == i, 'u']\n",
    "    list_mean_hum.append(np.mean(list_hum))\n",
    "print(list_mean_hum)\n",
    "print(len(list_mean_hum))"
   ],
   "metadata": {
    "collapsed": false,
    "ExecuteTime": {
     "end_time": "2024-03-11T16:13:03.985131020Z",
     "start_time": "2024-03-11T16:13:03.963104557Z"
    }
   },
   "id": "39e140c41f9ab896",
   "execution_count": 17
  },
  {
   "cell_type": "code",
   "outputs": [
    {
     "name": "stdout",
     "output_type": "stream",
     "text": [
      "La station la plus humide est : \n",
      "      ID             Nom\n",
      "6  7110  BREST-GUIPAVAS\n"
     ]
    }
   ],
   "source": [
    "most_hum_sta = list_num_sta[pd.Series(list_mean_hum).idxmax()]\n",
    "print(\"La station la plus humide est : \\n\", stations.loc[stations['ID'] == most_hum_sta, ['ID', 'Nom']])"
   ],
   "metadata": {
    "collapsed": false,
    "ExecuteTime": {
     "end_time": "2024-03-11T16:14:20.638386704Z",
     "start_time": "2024-03-11T16:14:20.632268795Z"
    }
   },
   "id": "e02da67b48e503ef",
   "execution_count": 20
  },
  {
   "cell_type": "code",
   "outputs": [],
   "source": [],
   "metadata": {
    "collapsed": false
   },
   "id": "bd81a656939edc0c"
  }
 ],
 "metadata": {
  "kernelspec": {
   "display_name": "Python 3",
   "language": "python",
   "name": "python3"
  },
  "language_info": {
   "codemirror_mode": {
    "name": "ipython",
    "version": 2
   },
   "file_extension": ".py",
   "mimetype": "text/x-python",
   "name": "python",
   "nbconvert_exporter": "python",
   "pygments_lexer": "ipython2",
   "version": "2.7.6"
  }
 },
 "nbformat": 4,
 "nbformat_minor": 5
}
