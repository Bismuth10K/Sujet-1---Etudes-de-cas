{
 "cells": [
  {
   "cell_type": "markdown",
   "id": "f05c1934191ef544",
   "metadata": {
    "collapsed": false,
    "jupyter": {
     "outputs_hidden": false
    }
   },
   "source": [
    "Etude de cas météorologique"
   ]
  },
  {
   "cell_type": "code",
   "execution_count": 1,
   "id": "initial_id",
   "metadata": {
    "ExecuteTime": {
     "end_time": "2024-03-18T10:12:10.484631Z",
     "start_time": "2024-03-18T10:12:10.193419Z"
    }
   },
   "outputs": [
    {
     "ename": "ModuleNotFoundError",
     "evalue": "No module named 'pandas'",
     "output_type": "error",
     "traceback": [
      "\u001b[1;31m---------------------------------------------------------------------------\u001b[0m",
      "\u001b[1;31mModuleNotFoundError\u001b[0m                       Traceback (most recent call last)",
      "Cell \u001b[1;32mIn[1], line 1\u001b[0m\n\u001b[1;32m----> 1\u001b[0m \u001b[38;5;28;01mimport\u001b[39;00m \u001b[38;5;21;01mpandas\u001b[39;00m \u001b[38;5;28;01mas\u001b[39;00m \u001b[38;5;21;01mpd\u001b[39;00m\n\u001b[0;32m      2\u001b[0m \u001b[38;5;28;01mimport\u001b[39;00m \u001b[38;5;21;01mnumpy\u001b[39;00m \u001b[38;5;28;01mas\u001b[39;00m \u001b[38;5;21;01mnp\u001b[39;00m\n\u001b[0;32m      3\u001b[0m \u001b[38;5;28;01mimport\u001b[39;00m \u001b[38;5;21;01mos\u001b[39;00m\n",
      "\u001b[1;31mModuleNotFoundError\u001b[0m: No module named 'pandas'"
     ]
    }
   ],
   "source": [
    "import pandas as pd\n",
    "import numpy as np\n",
    "import os\n",
    "import matplotlib"
   ]
  },
  {
   "cell_type": "code",
   "execution_count": null,
   "id": "5aea6cad20f91e0e",
   "metadata": {
    "ExecuteTime": {
     "end_time": "2024-03-18T10:12:11.395405Z",
     "start_time": "2024-03-18T10:12:10.485770Z"
    },
    "collapsed": false,
    "jupyter": {
     "outputs_hidden": false
    }
   },
   "outputs": [],
   "source": [
    "df = pd.read_csv(\"../Data/synop.csv\")\n",
    "print(df)\n",
    "print(df['numer_sta'] == 7005)"
   ]
  },
  {
   "cell_type": "markdown",
   "id": "ffc64ac071a769e5",
   "metadata": {
    "collapsed": false,
    "jupyter": {
     "outputs_hidden": false
    }
   },
   "source": [
    "Q1 : Quels sont les stations dont les températures sont les plus élevées et celles dont les températures sont les plus basses durant 2023 ? Appartiennent-elles à la même région ?"
   ]
  },
  {
   "cell_type": "code",
   "execution_count": null,
   "id": "89ab4ff83bd839b2",
   "metadata": {
    "ExecuteTime": {
     "end_time": "2024-03-18T10:12:11.401965Z",
     "start_time": "2024-03-18T10:12:11.396330Z"
    },
    "collapsed": false,
    "jupyter": {
     "outputs_hidden": false
    }
   },
   "outputs": [],
   "source": [
    "stations = pd.read_csv(\"../postesSynop.csv\", sep=\";\")\n",
    "list_num_sta = stations.loc[stations['ID'] < 10000, 'ID']\n",
    "print(list_num_sta)\n",
    "print(len(list_num_sta))"
   ]
  },
  {
   "cell_type": "code",
   "execution_count": null,
   "id": "733b9a9553ae6f87",
   "metadata": {
    "ExecuteTime": {
     "end_time": "2024-03-18T10:12:11.431226Z",
     "start_time": "2024-03-18T10:12:11.403585Z"
    },
    "collapsed": false,
    "jupyter": {
     "outputs_hidden": false
    }
   },
   "outputs": [],
   "source": [
    "list_mean_temp = []\n",
    "for i in list_num_sta:\n",
    "    list_temp = df.loc[df['numer_sta'] == i, 't']\n",
    "    list_mean_temp.append(np.mean(list_temp))\n",
    "print(list_mean_temp)\n",
    "print(len(list_mean_temp))"
   ]
  },
  {
   "cell_type": "code",
   "execution_count": null,
   "id": "3084a7d4ebcacf34",
   "metadata": {
    "ExecuteTime": {
     "end_time": "2024-03-18T10:12:11.439165Z",
     "start_time": "2024-03-18T10:12:11.432273Z"
    },
    "collapsed": false,
    "jupyter": {
     "outputs_hidden": false
    }
   },
   "outputs": [],
   "source": [
    "coldest_sta = list_num_sta[pd.Series(list_mean_temp).idxmin()]\n",
    "hottest_sta = list_num_sta[pd.Series(list_mean_temp).idxmax()]\n",
    "print(\"La station la plus froide est : \\n\", stations.loc[stations['ID'] == coldest_sta, ['ID', 'Nom']])\n",
    "print(\"La station la plus chaude est : \\n\", stations.loc[stations['ID'] == hottest_sta, ['ID', 'Nom']])"
   ]
  },
  {
   "cell_type": "markdown",
   "id": "47eef3f576bec1e4",
   "metadata": {
    "collapsed": false,
    "jupyter": {
     "outputs_hidden": false
    }
   },
   "source": [
    "Q2 : Quels sont les stations les plus humides, cela a-t-il une relation avec la température ?"
   ]
  },
  {
   "cell_type": "code",
   "execution_count": null,
   "id": "39e140c41f9ab896",
   "metadata": {
    "ExecuteTime": {
     "end_time": "2024-03-18T10:12:11.467928Z",
     "start_time": "2024-03-18T10:12:11.440267Z"
    },
    "collapsed": false,
    "jupyter": {
     "outputs_hidden": false
    }
   },
   "outputs": [],
   "source": [
    "list_mean_hum = []\n",
    "for i in list_num_sta:\n",
    "    list_hum = df.loc[df['numer_sta'] == i, 'u']\n",
    "    list_mean_hum.append(np.mean(list_hum))\n",
    "print(list_mean_hum)\n",
    "print(len(list_mean_hum))"
   ]
  },
  {
   "cell_type": "code",
   "execution_count": null,
   "id": "e02da67b48e503ef",
   "metadata": {
    "ExecuteTime": {
     "end_time": "2024-03-18T10:12:11.473700Z",
     "start_time": "2024-03-18T10:12:11.468818Z"
    },
    "collapsed": false,
    "jupyter": {
     "outputs_hidden": false
    }
   },
   "outputs": [],
   "source": [
    "most_hum_sta = list_num_sta[pd.Series(list_mean_hum).idxmax()]\n",
    "print(\"La station la plus humide est : \\n\", stations.loc[stations['ID'] == most_hum_sta, ['ID', 'Nom']])"
   ]
  },
  {
   "cell_type": "code",
   "execution_count": null,
   "id": "bd81a656939edc0c",
   "metadata": {
    "ExecuteTime": {
     "end_time": "2024-03-18T10:12:11.476063Z",
     "start_time": "2024-03-18T10:12:11.474599Z"
    },
    "collapsed": false,
    "jupyter": {
     "outputs_hidden": false
    }
   },
   "outputs": [],
   "source": []
  }
 ],
 "metadata": {
  "kernelspec": {
   "display_name": "Python 3 (ipykernel)",
   "language": "python",
   "name": "python3"
  },
  "language_info": {
   "codemirror_mode": {
    "name": "ipython",
    "version": 3
   },
   "file_extension": ".py",
   "mimetype": "text/x-python",
   "name": "python",
   "nbconvert_exporter": "python",
   "pygments_lexer": "ipython3",
   "version": "3.11.2"
  }
 },
 "nbformat": 4,
 "nbformat_minor": 5
}
