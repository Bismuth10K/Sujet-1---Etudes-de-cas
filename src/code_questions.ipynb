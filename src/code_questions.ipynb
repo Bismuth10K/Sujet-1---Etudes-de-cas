{
 "cells": [
  {
   "cell_type": "code",
   "execution_count": 3,
   "id": "348b0c4a-e2b9-4769-84ba-cc58dbf53236",
   "metadata": {},
   "outputs": [],
   "source": [
    "import numpy\n",
    "import pandas as pd\n",
    "import numpy as np\n",
    "\n",
    "data_dir = \"../Data/\"\n",
    "data = pd.read_csv(data_dir + \"synop.csv\")"
   ]
  },
  {
   "cell_type": "markdown",
   "id": "4c55344e-5c99-4656-b0cd-eeef3ce53d1b",
   "metadata": {},
   "source": [
    "Quelles sont les stations les plus humides ?\n",
    "Y a t il une corrélation entre l'humidité et la température ?"
   ]
  },
  {
   "cell_type": "code",
   "execution_count": 12,
   "id": "618230f6-f07d-484a-8f02-353c397055cf",
   "metadata": {},
   "outputs": [
    {
     "name": "stdout",
     "output_type": "stream",
     "text": [
      "numer_sta\n",
      "81401    85.643139\n",
      "7110     84.984380\n",
      "81405    84.701715\n",
      "71805    84.369475\n",
      "61997    83.767886\n",
      "           ...    \n",
      "7690     65.687083\n",
      "7591     62.686538\n",
      "7747     61.880241\n",
      "89642    60.163052\n",
      "7661           NaN\n",
      "Name: u, Length: 62, dtype: float64\n",
      "-0.277400971501697\n"
     ]
    }
   ],
   "source": [
    "humidity=data.groupby('numer_sta')['u'].agg('mean').sort_values(ascending=False)\n",
    "print(humidity)\n",
    "correlation=data['u'].corr(data['t'])\n",
    "print(correlation)"
   ]
  },
  {
   "cell_type": "markdown",
   "id": "8479d95b-0182-46c8-8c48-aa207fba2638",
   "metadata": {},
   "source": [
    "Quels sont les stations qui ont eu le plus de précipitations durant la saison d’hiver et d’automne sur 2023 ? \n",
    "Quelle est leur niveau d’exposition au soleil les plus exposés au soleil ?"
   ]
  },
  {
   "cell_type": "code",
   "execution_count": 32,
   "id": "2c09191c-b060-4f07-b20e-01cbeeb89bdb",
   "metadata": {},
   "outputs": [
    {
     "data": {
      "text/html": [
       "<div>\n",
       "<style scoped>\n",
       "    .dataframe tbody tr th:only-of-type {\n",
       "        vertical-align: middle;\n",
       "    }\n",
       "\n",
       "    .dataframe tbody tr th {\n",
       "        vertical-align: top;\n",
       "    }\n",
       "\n",
       "    .dataframe thead th {\n",
       "        text-align: right;\n",
       "    }\n",
       "</style>\n",
       "<table border=\"1\" class=\"dataframe\">\n",
       "  <thead>\n",
       "    <tr style=\"text-align: right;\">\n",
       "      <th></th>\n",
       "      <th>numer_sta</th>\n",
       "      <th>rr3</th>\n",
       "    </tr>\n",
       "  </thead>\n",
       "  <tbody>\n",
       "    <tr>\n",
       "      <th>0</th>\n",
       "      <td>7005.0</td>\n",
       "      <td>-0.1</td>\n",
       "    </tr>\n",
       "    <tr>\n",
       "      <th>1</th>\n",
       "      <td>7015.0</td>\n",
       "      <td>-0.1</td>\n",
       "    </tr>\n",
       "    <tr>\n",
       "      <th>2</th>\n",
       "      <td>7020.0</td>\n",
       "      <td>3.6</td>\n",
       "    </tr>\n",
       "    <tr>\n",
       "      <th>3</th>\n",
       "      <td>7027.0</td>\n",
       "      <td>0.2</td>\n",
       "    </tr>\n",
       "    <tr>\n",
       "      <th>4</th>\n",
       "      <td>7037.0</td>\n",
       "      <td>-0.1</td>\n",
       "    </tr>\n",
       "    <tr>\n",
       "      <th>...</th>\n",
       "      <td>...</td>\n",
       "      <td>...</td>\n",
       "    </tr>\n",
       "    <tr>\n",
       "      <th>190542</th>\n",
       "      <td>7661.0</td>\n",
       "      <td>NaN</td>\n",
       "    </tr>\n",
       "    <tr>\n",
       "      <th>190543</th>\n",
       "      <td>7690.0</td>\n",
       "      <td>0.0</td>\n",
       "    </tr>\n",
       "    <tr>\n",
       "      <th>190544</th>\n",
       "      <td>7747.0</td>\n",
       "      <td>0.0</td>\n",
       "    </tr>\n",
       "    <tr>\n",
       "      <th>190545</th>\n",
       "      <td>7761.0</td>\n",
       "      <td>0.0</td>\n",
       "    </tr>\n",
       "    <tr>\n",
       "      <th>190546</th>\n",
       "      <td>7790.0</td>\n",
       "      <td>0.0</td>\n",
       "    </tr>\n",
       "  </tbody>\n",
       "</table>\n",
       "<p>131636 rows × 2 columns</p>\n",
       "</div>"
      ],
      "text/plain": [
       "        numer_sta  rr3\n",
       "0          7005.0 -0.1\n",
       "1          7015.0 -0.1\n",
       "2          7020.0  3.6\n",
       "3          7027.0  0.2\n",
       "4          7037.0 -0.1\n",
       "...           ...  ...\n",
       "190542     7661.0  NaN\n",
       "190543     7690.0  0.0\n",
       "190544     7747.0  0.0\n",
       "190545     7761.0  0.0\n",
       "190546     7790.0  0.0\n",
       "\n",
       "[131636 rows x 2 columns]"
      ]
     },
     "execution_count": 32,
     "metadata": {},
     "output_type": "execute_result"
    }
   ],
   "source": [
    "#Retourne vrai si la date est en hiver ou en automne: pas entre le 19 mars et le 24 septembre\n",
    "def enAutomneHiver(date):\n",
    "    return not (319 > int(str(date)[5:8]) > 824)\n",
    "\n",
    "stations_automne_hiver=pd.DataFrame([data.loc[i, ['numer_sta', 'rr3']] for i in range(len(data)) if enAutomneHiver(data['date'][i]) and data['numer_sta'][i] < 10000])\n",
    "stations_automne_hiver"
   ]
  },
  {
   "cell_type": "code",
   "execution_count": 26,
   "id": "9fba90f6-9793-4bd4-8791-0e6f5758b703",
   "metadata": {},
   "outputs": [
    {
     "data": {
      "text/plain": [
       "numer_sta    7149.0\n",
       "rr3             0.0\n",
       "Name: 10, dtype: float64"
      ]
     },
     "execution_count": 26,
     "metadata": {},
     "output_type": "execute_result"
    }
   ],
   "source": [
    "data.loc[10, ['numer_sta', 'rr3']]"
   ]
  },
  {
   "cell_type": "code",
   "execution_count": 39,
   "id": "f6321733-e78b-4bed-805a-dc369b11e37b",
   "metadata": {},
   "outputs": [
    {
     "data": {
      "text/plain": [
       "numer_sta\n",
       "7110.0    0.456322\n",
       "7434.0    0.404131\n",
       "7510.0    0.372687\n",
       "7607.0    0.357643\n",
       "7591.0    0.348602\n",
       "7621.0    0.339294\n",
       "7005.0    0.318964\n",
       "7627.0    0.313159\n",
       "7535.0    0.310022\n",
       "7222.0    0.290384\n",
       "7117.0    0.288192\n",
       "7181.0    0.282428\n",
       "7139.0    0.279366\n",
       "7027.0    0.276540\n",
       "7314.0    0.273724\n",
       "7037.0    0.266284\n",
       "7015.0    0.261571\n",
       "7481.0    0.259320\n",
       "7335.0    0.255923\n",
       "7020.0    0.245193\n",
       "7240.0    0.233805\n",
       "7280.0    0.233365\n",
       "7255.0    0.232231\n",
       "7168.0    0.229061\n",
       "7130.0    0.220173\n",
       "7072.0    0.219948\n",
       "7558.0    0.213158\n",
       "7149.0    0.209651\n",
       "7471.0    0.198634\n",
       "7299.0    0.194891\n",
       "7207.0    0.194807\n",
       "7630.0    0.194081\n",
       "7577.0    0.183190\n",
       "7761.0    0.182714\n",
       "7190.0    0.166943\n",
       "7460.0    0.158599\n",
       "7690.0    0.134097\n",
       "7643.0    0.096221\n",
       "7650.0    0.093141\n",
       "7790.0    0.087635\n",
       "7747.0    0.077325\n",
       "7661.0         NaN\n",
       "Name: rr3, dtype: float64"
      ]
     },
     "execution_count": 39,
     "metadata": {},
     "output_type": "execute_result"
    }
   ],
   "source": [
    "precipiations=stations_automne_hiver.groupby('numer_sta')['rr3'].agg('mean').sort_values(ascending=False)\n",
    "precipiations"
   ]
  },
  {
   "cell_type": "code",
   "execution_count": null,
   "id": "91f03882-134d-495b-8b92-ec4ee6c7eb5f",
   "metadata": {},
   "outputs": [],
   "source": []
  }
 ],
 "metadata": {
  "kernelspec": {
   "display_name": "Python 3 (ipykernel)",
   "language": "python",
   "name": "python3"
  },
  "language_info": {
   "codemirror_mode": {
    "name": "ipython",
    "version": 3
   },
   "file_extension": ".py",
   "mimetype": "text/x-python",
   "name": "python",
   "nbconvert_exporter": "python",
   "pygments_lexer": "ipython3",
   "version": "3.11.2"
  }
 },
 "nbformat": 4,
 "nbformat_minor": 5
}
