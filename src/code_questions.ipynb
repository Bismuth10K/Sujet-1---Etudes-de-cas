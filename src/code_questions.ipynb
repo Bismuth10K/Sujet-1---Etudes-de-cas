{
 "cells": [
  {
   "cell_type": "code",
   "execution_count": 18,
   "id": "348b0c4a-e2b9-4769-84ba-cc58dbf53236",
   "metadata": {},
   "outputs": [],
   "source": [
    "import numpy\n",
    "import pandas as pd\n",
    "import numpy as np\n",
    "\n",
    "data_dir = \"../Data/\"\n",
    "data = pd.read_csv(data_dir + \"synop.csv\")\n",
    "data_=data.loc[data['numer_sta'] < 10000]"
   ]
  },
  {
   "cell_type": "markdown",
   "id": "4c55344e-5c99-4656-b0cd-eeef3ce53d1b",
   "metadata": {},
   "source": [
    "Quelles sont les stations les plus humides ?\n",
    "Y a t il une corrélation entre l'humidité et la température ?"
   ]
  },
  {
   "cell_type": "code",
   "execution_count": 12,
   "id": "618230f6-f07d-484a-8f02-353c397055cf",
   "metadata": {},
   "outputs": [
    {
     "name": "stdout",
     "output_type": "stream",
     "text": [
      "numer_sta\n",
      "81401    85.643139\n",
      "7110     84.984380\n",
      "81405    84.701715\n",
      "71805    84.369475\n",
      "61997    83.767886\n",
      "           ...    \n",
      "7690     65.687083\n",
      "7591     62.686538\n",
      "7747     61.880241\n",
      "89642    60.163052\n",
      "7661           NaN\n",
      "Name: u, Length: 62, dtype: float64\n",
      "-0.277400971501697\n"
     ]
    }
   ],
   "source": [
    "humidity=data.groupby('numer_sta')['u'].agg('mean').sort_values(ascending=False)\n",
    "print(humidity)\n",
    "correlation=data['u'].corr(data['t'])\n",
    "print(correlation)"
   ]
  },
  {
   "cell_type": "markdown",
   "id": "8479d95b-0182-46c8-8c48-aa207fba2638",
   "metadata": {},
   "source": [
    "Quels sont les stations qui ont eu le plus de précipitations durant la saison d’hiver et d’automne sur 2023 ? \n",
    "Quelle est leur niveau d’exposition au soleil les plus exposés au soleil ?"
   ]
  },
  {
   "cell_type": "code",
   "execution_count": 52,
   "id": "2c09191c-b060-4f07-b20e-01cbeeb89bdb",
   "metadata": {},
   "outputs": [
    {
     "data": {
      "text/html": [
       "<div>\n",
       "<style scoped>\n",
       "    .dataframe tbody tr th:only-of-type {\n",
       "        vertical-align: middle;\n",
       "    }\n",
       "\n",
       "    .dataframe tbody tr th {\n",
       "        vertical-align: top;\n",
       "    }\n",
       "\n",
       "    .dataframe thead th {\n",
       "        text-align: right;\n",
       "    }\n",
       "</style>\n",
       "<table border=\"1\" class=\"dataframe\">\n",
       "  <thead>\n",
       "    <tr style=\"text-align: right;\">\n",
       "      <th></th>\n",
       "      <th>numer_sta</th>\n",
       "      <th>rr3</th>\n",
       "      <th>n</th>\n",
       "    </tr>\n",
       "  </thead>\n",
       "  <tbody>\n",
       "    <tr>\n",
       "      <th>0</th>\n",
       "      <td>7005.0</td>\n",
       "      <td>-0.1</td>\n",
       "      <td>NaN</td>\n",
       "    </tr>\n",
       "    <tr>\n",
       "      <th>1</th>\n",
       "      <td>7015.0</td>\n",
       "      <td>-0.1</td>\n",
       "      <td>100.0</td>\n",
       "    </tr>\n",
       "    <tr>\n",
       "      <th>2</th>\n",
       "      <td>7020.0</td>\n",
       "      <td>3.6</td>\n",
       "      <td>100.0</td>\n",
       "    </tr>\n",
       "    <tr>\n",
       "      <th>3</th>\n",
       "      <td>7027.0</td>\n",
       "      <td>0.2</td>\n",
       "      <td>100.0</td>\n",
       "    </tr>\n",
       "    <tr>\n",
       "      <th>4</th>\n",
       "      <td>7037.0</td>\n",
       "      <td>-0.1</td>\n",
       "      <td>100.0</td>\n",
       "    </tr>\n",
       "    <tr>\n",
       "      <th>...</th>\n",
       "      <td>...</td>\n",
       "      <td>...</td>\n",
       "      <td>...</td>\n",
       "    </tr>\n",
       "    <tr>\n",
       "      <th>190542</th>\n",
       "      <td>7661.0</td>\n",
       "      <td>NaN</td>\n",
       "      <td>NaN</td>\n",
       "    </tr>\n",
       "    <tr>\n",
       "      <th>190543</th>\n",
       "      <td>7690.0</td>\n",
       "      <td>0.0</td>\n",
       "      <td>25.0</td>\n",
       "    </tr>\n",
       "    <tr>\n",
       "      <th>190544</th>\n",
       "      <td>7747.0</td>\n",
       "      <td>0.0</td>\n",
       "      <td>90.0</td>\n",
       "    </tr>\n",
       "    <tr>\n",
       "      <th>190545</th>\n",
       "      <td>7761.0</td>\n",
       "      <td>0.0</td>\n",
       "      <td>100.0</td>\n",
       "    </tr>\n",
       "    <tr>\n",
       "      <th>190546</th>\n",
       "      <td>7790.0</td>\n",
       "      <td>0.0</td>\n",
       "      <td>NaN</td>\n",
       "    </tr>\n",
       "  </tbody>\n",
       "</table>\n",
       "<p>131636 rows × 3 columns</p>\n",
       "</div>"
      ],
      "text/plain": [
       "        numer_sta  rr3      n\n",
       "0          7005.0 -0.1    NaN\n",
       "1          7015.0 -0.1  100.0\n",
       "2          7020.0  3.6  100.0\n",
       "3          7027.0  0.2  100.0\n",
       "4          7037.0 -0.1  100.0\n",
       "...           ...  ...    ...\n",
       "190542     7661.0  NaN    NaN\n",
       "190543     7690.0  0.0   25.0\n",
       "190544     7747.0  0.0   90.0\n",
       "190545     7761.0  0.0  100.0\n",
       "190546     7790.0  0.0    NaN\n",
       "\n",
       "[131636 rows x 3 columns]"
      ]
     },
     "execution_count": 52,
     "metadata": {},
     "output_type": "execute_result"
    }
   ],
   "source": [
    "#Retourne vrai si la date est en hiver ou en automne: pas entre le 19 mars et le 24 septembre\n",
    "def enAutomneHiver(date):\n",
    "    return not (319 > int(str(date)[5:8]) > 824)\n",
    "\n",
    "stations_automne_hiver=pd.DataFrame([data.loc[i, ['numer_sta', 'rr3', 'n']] for i in range(len(data)) if enAutomneHiver(data['date'][i]) and data['numer_sta'][i] < 10000])\n",
    "stations_automne_hiver"
   ]
  },
  {
   "cell_type": "code",
   "execution_count": 4,
   "id": "f6321733-e78b-4bed-805a-dc369b11e37b",
   "metadata": {},
   "outputs": [
    {
     "ename": "NameError",
     "evalue": "name 'stations_automne_hiver' is not defined",
     "output_type": "error",
     "traceback": [
      "\u001b[1;31m---------------------------------------------------------------------------\u001b[0m",
      "\u001b[1;31mNameError\u001b[0m                                 Traceback (most recent call last)",
      "Cell \u001b[1;32mIn[4], line 1\u001b[0m\n\u001b[1;32m----> 1\u001b[0m precipiations\u001b[38;5;241m=\u001b[39m\u001b[43mstations_automne_hiver\u001b[49m\u001b[38;5;241m.\u001b[39mgroupby(\u001b[38;5;124m'\u001b[39m\u001b[38;5;124mnumer_sta\u001b[39m\u001b[38;5;124m'\u001b[39m)[[\u001b[38;5;124m'\u001b[39m\u001b[38;5;124mrr3\u001b[39m\u001b[38;5;124m'\u001b[39m, \u001b[38;5;124m'\u001b[39m\u001b[38;5;124mn\u001b[39m\u001b[38;5;124m'\u001b[39m]]\u001b[38;5;241m.\u001b[39magg(\u001b[38;5;124m'\u001b[39m\u001b[38;5;124mmean\u001b[39m\u001b[38;5;124m'\u001b[39m)\u001b[38;5;241m.\u001b[39msort_values(\u001b[38;5;124m'\u001b[39m\u001b[38;5;124mrr3\u001b[39m\u001b[38;5;124m'\u001b[39m, ascending\u001b[38;5;241m=\u001b[39m\u001b[38;5;28;01mFalse\u001b[39;00m)\n\u001b[0;32m      2\u001b[0m precipiations\n",
      "\u001b[1;31mNameError\u001b[0m: name 'stations_automne_hiver' is not defined"
     ]
    }
   ],
   "source": [
    "precipiations=stations_automne_hiver.groupby('numer_sta')[['rr3', 'n']].agg('mean').sort_values('rr3', ascending=False)\n",
    "precipiations"
   ]
  },
  {
   "cell_type": "code",
   "execution_count": 54,
   "id": "91f03882-134d-495b-8b92-ec4ee6c7eb5f",
   "metadata": {},
   "outputs": [
    {
     "ename": "TypeError",
     "evalue": "unhashable type: 'Series'",
     "output_type": "error",
     "traceback": [
      "\u001b[1;31m---------------------------------------------------------------------------\u001b[0m",
      "\u001b[1;31mTypeError\u001b[0m                                 Traceback (most recent call last)",
      "Cell \u001b[1;32mIn[54], line 4\u001b[0m\n\u001b[0;32m      1\u001b[0m top5_precipitations\u001b[38;5;241m=\u001b[39mprecipiations\u001b[38;5;241m.\u001b[39miloc[:\u001b[38;5;241m5\u001b[39m]\n\u001b[0;32m      3\u001b[0m ensolleilement \u001b[38;5;241m=\u001b[39m stations_automne_hiver\u001b[38;5;241m.\u001b[39mgroupby(\u001b[38;5;124m'\u001b[39m\u001b[38;5;124mnumer_sta\u001b[39m\u001b[38;5;124m'\u001b[39m)[\u001b[38;5;124m'\u001b[39m\u001b[38;5;124mrr3\u001b[39m\u001b[38;5;124m'\u001b[39m]\u001b[38;5;241m.\u001b[39magg(\u001b[38;5;124m'\u001b[39m\u001b[38;5;124mmean\u001b[39m\u001b[38;5;124m'\u001b[39m)\u001b[38;5;241m.\u001b[39msort_values(ascending\u001b[38;5;241m=\u001b[39m\u001b[38;5;28;01mFalse\u001b[39;00m)\n\u001b[1;32m----> 4\u001b[0m ensolleilement \u001b[38;5;241m=\u001b[39m np\u001b[38;5;241m.\u001b[39mwhere(\u001b[43mensoleillement\u001b[49m\u001b[43m[\u001b[49m\u001b[38;5;124;43m'\u001b[39;49m\u001b[38;5;124;43mnumer_sta\u001b[39;49m\u001b[38;5;124;43m'\u001b[39;49m\u001b[43m]\u001b[49m\u001b[43m \u001b[49m\u001b[38;5;129;43;01min\u001b[39;49;00m\u001b[43m \u001b[49m\u001b[43mtop5_precipitations\u001b[49m)\n\u001b[0;32m      6\u001b[0m \u001b[38;5;66;03m# ensoleillement=pd.DataFrame([data.loc[i, ['numer_sta', 'n']] for i in range(len(data)) if enAutomneHiver(data['date'][i]) and data['numer_sta'][i] in top5_precipitations])\u001b[39;00m\n\u001b[0;32m      7\u001b[0m \u001b[38;5;66;03m# ensoleillement=top5_precipitations.groupby('numer_sta')['n'].agg('mean').sort_values(ascending=False)\u001b[39;00m\n",
      "File \u001b[1;32mC:\\Python311\\Lib\\site-packages\\pandas\\core\\generic.py:2079\u001b[0m, in \u001b[0;36mNDFrame.__contains__\u001b[1;34m(self, key)\u001b[0m\n\u001b[0;32m   2076\u001b[0m \u001b[38;5;129m@final\u001b[39m\n\u001b[0;32m   2077\u001b[0m \u001b[38;5;28;01mdef\u001b[39;00m \u001b[38;5;21m__contains__\u001b[39m(\u001b[38;5;28mself\u001b[39m, key) \u001b[38;5;241m-\u001b[39m\u001b[38;5;241m>\u001b[39m bool_t:\n\u001b[0;32m   2078\u001b[0m \u001b[38;5;250m    \u001b[39m\u001b[38;5;124;03m\"\"\"True if the key is in the info axis\"\"\"\u001b[39;00m\n\u001b[1;32m-> 2079\u001b[0m     \u001b[38;5;28;01mreturn\u001b[39;00m \u001b[43mkey\u001b[49m\u001b[43m \u001b[49m\u001b[38;5;129;43;01min\u001b[39;49;00m\u001b[43m \u001b[49m\u001b[38;5;28;43mself\u001b[39;49m\u001b[38;5;241;43m.\u001b[39;49m\u001b[43m_info_axis\u001b[49m\n",
      "File \u001b[1;32mC:\\Python311\\Lib\\site-packages\\pandas\\core\\indexes\\base.py:5358\u001b[0m, in \u001b[0;36mIndex.__contains__\u001b[1;34m(self, key)\u001b[0m\n\u001b[0;32m   5323\u001b[0m \u001b[38;5;28;01mdef\u001b[39;00m \u001b[38;5;21m__contains__\u001b[39m(\u001b[38;5;28mself\u001b[39m, key: Any) \u001b[38;5;241m-\u001b[39m\u001b[38;5;241m>\u001b[39m \u001b[38;5;28mbool\u001b[39m:\n\u001b[0;32m   5324\u001b[0m \u001b[38;5;250m    \u001b[39m\u001b[38;5;124;03m\"\"\"\u001b[39;00m\n\u001b[0;32m   5325\u001b[0m \u001b[38;5;124;03m    Return a boolean indicating whether the provided key is in the index.\u001b[39;00m\n\u001b[0;32m   5326\u001b[0m \n\u001b[1;32m   (...)\u001b[0m\n\u001b[0;32m   5356\u001b[0m \u001b[38;5;124;03m    False\u001b[39;00m\n\u001b[0;32m   5357\u001b[0m \u001b[38;5;124;03m    \"\"\"\u001b[39;00m\n\u001b[1;32m-> 5358\u001b[0m     \u001b[38;5;28mhash\u001b[39m(key)\n\u001b[0;32m   5359\u001b[0m     \u001b[38;5;28;01mtry\u001b[39;00m:\n\u001b[0;32m   5360\u001b[0m         \u001b[38;5;28;01mreturn\u001b[39;00m key \u001b[38;5;129;01min\u001b[39;00m \u001b[38;5;28mself\u001b[39m\u001b[38;5;241m.\u001b[39m_engine\n",
      "\u001b[1;31mTypeError\u001b[0m: unhashable type: 'Series'"
     ]
    }
   ],
   "source": [
    "top5_precipitations=precipiations.iloc[:5]\n",
    "\n",
    "ensolleilement = stations_automne_hiver.groupby('numer_sta')['rr3'].agg('mean').sort_values(ascending=False)\n",
    "ensolleilement = np.where(ensoleillement['numer_sta'] in top5_precipitations)\n",
    "\n",
    "# ensoleillement=pd.DataFrame([data.loc[i, ['numer_sta', 'n']] for i in range(len(data)) if enAutomneHiver(data['date'][i]) and data['numer_sta'][i] in top5_precipitations])\n",
    "# ensoleillement=top5_precipitations.groupby('numer_sta')['n'].agg('mean').sort_values(ascending=False)"
   ]
  },
  {
   "cell_type": "markdown",
   "id": "1a8a9382-9fa5-4159-a928-6d38c70d3321",
   "metadata": {},
   "source": [
    "Quels sont les stations où le vent est le plus constant sur l’année et le plus fort ?"
   ]
  },
  {
   "cell_type": "code",
   "execution_count": 19,
   "id": "892c26df-41d0-435e-9f83-ff4b2fe830b2",
   "metadata": {},
   "outputs": [
    {
     "data": {
      "text/plain": [
       "numer_sta\n",
       "7535    1.293800\n",
       "7627    1.652043\n",
       "7761    1.724852\n",
       "7607    1.725696\n",
       "7621    1.796415\n",
       "7591    1.807126\n",
       "7790    1.826980\n",
       "7280    1.876265\n",
       "7434    1.885920\n",
       "7255    1.909944\n",
       "7299    1.969656\n",
       "7240    2.018483\n",
       "7471    2.027739\n",
       "7130    2.068587\n",
       "7222    2.096944\n",
       "7510    2.103677\n",
       "7149    2.113341\n",
       "7072    2.163510\n",
       "7190    2.168712\n",
       "7139    2.181675\n",
       "7690    2.256475\n",
       "7037    2.302044\n",
       "7335    2.306757\n",
       "7005    2.332682\n",
       "7460    2.367829\n",
       "7630    2.415139\n",
       "7481    2.444826\n",
       "7643    2.543489\n",
       "7015    2.549511\n",
       "7181    2.559169\n",
       "7168    2.564137\n",
       "7577    2.595419\n",
       "7027    2.627914\n",
       "7117    2.637410\n",
       "7110    2.851374\n",
       "7558    2.899812\n",
       "7314    3.300675\n",
       "7747    3.326560\n",
       "7020    3.523149\n",
       "7207    3.666770\n",
       "7650    3.711655\n",
       "7661    4.221894\n",
       "Name: ff, dtype: float64"
      ]
     },
     "execution_count": 19,
     "metadata": {},
     "output_type": "execute_result"
    }
   ],
   "source": [
    "constance_du_vent=data_.groupby('numer_sta')['ff'].agg('std').sort_values()\n",
    "constance_du_vent"
   ]
  },
  {
   "cell_type": "code",
   "execution_count": 16,
   "id": "15d60f38-4e2c-4949-9a43-59f87b303701",
   "metadata": {},
   "outputs": [
    {
     "data": {
      "text/plain": [
       "numer_sta\n",
       "81401     1.299934\n",
       "81415     1.350824\n",
       "81408     1.371533\n",
       "81405     2.417223\n",
       "61968     2.780587\n",
       "78897     3.370742\n",
       "67005     3.780458\n",
       "61970     4.093838\n",
       "78925     4.263564\n",
       "78894     5.098858\n",
       "61980     5.105358\n",
       "61972     5.262654\n",
       "61976     6.330390\n",
       "61996     6.560191\n",
       "78922     6.667092\n",
       "78890     7.151226\n",
       "71805     7.212166\n",
       "61998     9.534002\n",
       "61997    10.153435\n",
       "89642    10.300562\n",
       "Name: ff, dtype: float64"
      ]
     },
     "execution_count": 16,
     "metadata": {},
     "output_type": "execute_result"
    }
   ],
   "source": [
    "force_du_vent=data_.groupby('numer_sta')['ff'].agg('mean').sort_values()\n",
    "force_du_vent"
   ]
  }
 ],
 "metadata": {
  "kernelspec": {
   "display_name": "Python 3 (ipykernel)",
   "language": "python",
   "name": "python3"
  },
  "language_info": {
   "codemirror_mode": {
    "name": "ipython",
    "version": 3
   },
   "file_extension": ".py",
   "mimetype": "text/x-python",
   "name": "python",
   "nbconvert_exporter": "python",
   "pygments_lexer": "ipython3",
   "version": "3.11.2"
  }
 },
 "nbformat": 4,
 "nbformat_minor": 5
}
