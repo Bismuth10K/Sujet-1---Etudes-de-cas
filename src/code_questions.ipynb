{
 "cells": [
  {
   "cell_type": "code",
   "execution_count": 1,
   "id": "348b0c4a-e2b9-4769-84ba-cc58dbf53236",
   "metadata": {},
   "outputs": [],
   "source": [
    "import numpy\n",
    "import pandas as pd\n",
    "import numpy as np\n",
    "\n",
    "data_dir = \"../Data/\"\n",
    "data = pd.read_csv(data_dir + \"synop.csv\")"
   ]
  },
  {
   "cell_type": "markdown",
   "id": "4c55344e-5c99-4656-b0cd-eeef3ce53d1b",
   "metadata": {},
   "source": [
    "Quelles sont les stations les plus humides ?\n",
    "Y a t il une corrélation entre l'humidité et la température ?"
   ]
  },
  {
   "cell_type": "code",
   "execution_count": 7,
   "id": "618230f6-f07d-484a-8f02-353c397055cf",
   "metadata": {},
   "outputs": [
    {
     "name": "stdout",
     "output_type": "stream",
     "text": [
      "numer_sta\n",
      "81401    85.643139\n",
      "7110     84.984380\n",
      "81405    84.701715\n",
      "71805    84.369475\n",
      "61997    83.767886\n",
      "           ...    \n",
      "7690     65.687083\n",
      "7591     62.686538\n",
      "7747     61.880241\n",
      "89642    60.163052\n",
      "7661           NaN\n",
      "Name: u, Length: 62, dtype: float64\n",
      "-0.277400971501697\n"
     ]
    }
   ],
   "source": [
    "humidity=data.groupby('numer_sta')['u'].agg('mean').sort_values(ascending=False)\n",
    "print(humidity)\n",
    "correlation=data['u'].corr(data['t'])\n",
    "print(correlation)"
   ]
  },
  {
   "cell_type": "markdown",
   "id": "8479d95b-0182-46c8-8c48-aa207fba2638",
   "metadata": {},
   "source": [
    "Quels sont les stations qui ont eu le plus de précipitations durant la saison d’hiver et d’automne sur 2023 ? \n",
    "Quelle est leur niveau d’exposition au soleil les plus exposés au soleil ?"
   ]
  },
  {
   "cell_type": "code",
   "execution_count": null,
   "id": "2c09191c-b060-4f07-b20e-01cbeeb89bdb",
   "metadata": {},
   "outputs": [],
   "source": [
    "def in_season(date):\n",
    "    #pas de printemps à été\n",
    "    if date[4:6] note in range(2,9):"
   ]
  }
 ],
 "metadata": {
  "kernelspec": {
   "display_name": "Python 3 (ipykernel)",
   "language": "python",
   "name": "python3"
  },
  "language_info": {
   "codemirror_mode": {
    "name": "ipython",
    "version": 3
   },
   "file_extension": ".py",
   "mimetype": "text/x-python",
   "name": "python",
   "nbconvert_exporter": "python",
   "pygments_lexer": "ipython3",
   "version": "3.11.2"
  }
 },
 "nbformat": 4,
 "nbformat_minor": 5
}
